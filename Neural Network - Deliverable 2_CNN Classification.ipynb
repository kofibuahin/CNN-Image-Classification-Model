{
 "cells": [
  {
   "cell_type": "markdown",
   "metadata": {},
   "source": [
    "<p style=\"text-align: center;\"> <span style=\"color:skyblue\"> <font size=\"5\"> <b> CNN Neural Network - Image Classification  </b> </font> </p> </span> \n",
    "<p style=\"text-align: center;\"> <b> <font font size=\"4\"> By: Kofi Buahin </p> </b></font>"
   ]
  },
  {
   "cell_type": "markdown",
   "metadata": {},
   "source": [
    "## Library Imports  "
   ]
  },
  {
   "cell_type": "code",
   "execution_count": 55,
   "metadata": {},
   "outputs": [],
   "source": [
    "import os\n",
    "import pathlib\n",
    "import pickle\n",
    "import warnings\n",
    "\n",
    "\n",
    "#Standard Data Science Libraries\n",
    "import numpy as np\n",
    "import pandas as pd\n",
    "\n",
    "#Image Processing Relevant Tools\n",
    "from PIL import Image, ImageOps\n",
    "from IPython.display import display\n",
    "\n",
    "# Machine Learning Relevant Tools\n",
    "from sklearn.preprocessing import LabelEncoder\n",
    "from sklearn.utils import shuffle\n",
    "from sklearn.model_selection import train_test_split\n",
    "import tensorflow as tf\n",
    "from tensorflow.keras.utils import to_categorical\n",
    "\n",
    "# Visualization\n",
    "import matplotlib.pyplot as plt\n",
    "from matplotlib import rcParams\n",
    "import seaborn as sns \n",
    "plt.style.use('ggplot')\n",
    "rcParams['figure.figsize'] = (18, 6)\n",
    "rcParams['axes.spines.top'] = False\n",
    "rcParams['axes.spines.right'] = False"
   ]
  },
  {
   "cell_type": "markdown",
   "metadata": {},
   "source": [
    "## Data Pre-processing"
   ]
  },
  {
   "cell_type": "code",
   "execution_count": 2,
   "metadata": {},
   "outputs": [
    {
     "data": {
      "text/plain": [
       "['airplane', 'car', 'cat', 'dog', 'flower', 'fruit', 'motorbike', 'person']"
      ]
     },
     "execution_count": 2,
     "metadata": {},
     "output_type": "execute_result"
    }
   ],
   "source": [
    "dir = str(pathlib.Path().resolve())\n",
    "image_classes = [folder for folder in os.listdir(dir+'/natural_images') ]\n",
    "image_classes"
   ]
  },
  {
   "cell_type": "code",
   "execution_count": 4,
   "metadata": {},
   "outputs": [],
   "source": [
    "# dir = str(pathlib.Path().resolve())\n",
    "# image_sizes = []\n",
    "# for f in os.listdir(dir+'/natural_images'):\n",
    "#     for picture in os.listdir(dir+'/natural_images/{}'.format(f)):\n",
    "#         pic_dir = dir + '/natural_images/{}/{}'.format(f,picture)\n",
    "#         pic_size = np.array(Image.open(pic_dir)).shape\n",
    "#         image_sizes.append(pic_size)\n",
    "\n"
   ]
  },
  {
   "cell_type": "markdown",
   "metadata": {},
   "source": [
    "We don't have images of the same size so we should rescale them. We do that using function below"
   ]
  },
  {
   "cell_type": "code",
   "execution_count": 9,
   "metadata": {},
   "outputs": [],
   "source": [
    "# Function to Process images\n",
    "def ImageProcessor(img_path):\n",
    "    img = Image.open(img_path)\n",
    "    img = ImageOps.grayscale(img)\n",
    "    img = img.resize(size=(96, 96))\n",
    "    img = np.ravel(img) / 255.0\n",
    "    return img"
   ]
  },
  {
   "cell_type": "code",
   "execution_count": 16,
   "metadata": {},
   "outputs": [],
   "source": [
    "def FolderProcessor(label):\n",
    "    folder = dir + '/natural_images/{}'.format(label) \n",
    "    processed = [] # Storage container for images\n",
    "    for img in os.listdir(folder): # For every image in the directory\n",
    "        pic_dir = folder + '/{}'.format(img)\n",
    "        processed.append(ImageProcessor(pic_dir))\n",
    "    processed = pd.DataFrame(processed) # Convert to pd.DataFrame\n",
    "    processed['class'] = label # Add a class column\n",
    "    return processed"
   ]
  },
  {
   "cell_type": "markdown",
   "metadata": {},
   "source": [
    "We can now merge all the processed data into a single dataframe here:"
   ]
  },
  {
   "cell_type": "code",
   "execution_count": 17,
   "metadata": {},
   "outputs": [],
   "source": [
    "data = pd.concat([FolderProcessor(c) for c in image_classes])"
   ]
  },
  {
   "cell_type": "markdown",
   "metadata": {},
   "source": [
    "We must now split the dataset into test and train and we must also encode the target variable class"
   ]
  },
  {
   "cell_type": "code",
   "execution_count": 56,
   "metadata": {},
   "outputs": [],
   "source": [
    "y_vars = data['class']\n",
    "X_vars = data.iloc[:,:-1]\n",
    "\n",
    "y_encoded = LabelEncoder().fit_transform(y_vars)\n",
    "y_categorical = to_categorical(y_encoded)\n"
   ]
  },
  {
   "cell_type": "code",
   "execution_count": 57,
   "metadata": {},
   "outputs": [],
   "source": [
    "shuffle = np.arange(X_vars.shape[0])\n",
    "np.random.seed(15)\n",
    "\n",
    "np.random.shuffle(shuffle)\n",
    "X = X_vars[shuffle]\n",
    "y = y_categorical[shuffle]"
   ]
  },
  {
   "cell_type": "code",
   "execution_count": 61,
   "metadata": {},
   "outputs": [],
   "source": [
    "X_train, X_test, y_train, y_test = train_test_split(X, y, \n",
    "                                                    test_size = 0.25)"
   ]
  },
  {
   "cell_type": "markdown",
   "metadata": {},
   "source": [
    "## Exploratory Data Analysis (If Needed)"
   ]
  },
  {
   "cell_type": "code",
   "execution_count": 35,
   "metadata": {},
   "outputs": [
    {
     "data": {
      "image/png": "[encoded data removed]",
      "text/plain": [
       "<Figure size 1296x432 with 1 Axes>"
      ]
     },
     "metadata": {},
     "output_type": "display_data"
    }
   ],
   "source": [
    "class_dist = data['class'].value_counts()\n",
    "\n",
    "fig, ax = plt.subplots()\n",
    "\n",
    "p = plt.barh(class_dist.index, class_dist)\n",
    "ax.set_xlabel('Class')\n",
    "ax.set_ylabel('Count of Images')\n",
    "ax.set_title('Number Pictures in Dataset by Class')\n",
    "\n",
    "bar_labels = class_dist # series of label\n",
    "[ax.text(v, i, v) for i, v in enumerate(bar_labels)]\n",
    "\n",
    "plt.title(\"Number Pictures in Dataset by Class\", \n",
    "          loc= 'center',\n",
    "          fontsize = 20,\n",
    "          fontweight = 'bold',\n",
    "          pad = 20, \n",
    "          color = 'black')\n",
    "\n",
    "plt.show()"
   ]
  },
  {
   "cell_type": "markdown",
   "metadata": {},
   "source": [
    "***Show some random pictures selected from the training set***"
   ]
  },
  {
   "cell_type": "code",
   "execution_count": null,
   "metadata": {},
   "outputs": [],
   "source": []
  },
  {
   "cell_type": "markdown",
   "metadata": {},
   "source": [
    "## Model Building"
   ]
  },
  {
   "cell_type": "markdown",
   "metadata": {},
   "source": [
    "### Iteration 1 - MLP Classifier"
   ]
  },
  {
   "cell_type": "code",
   "execution_count": null,
   "metadata": {},
   "outputs": [],
   "source": [
    "tf.random.set_seed(42)\n",
    "\n",
    "mlp_nn = tf.keras.Sequential([\n",
    "    tf.keras.layers.Dense(2048, activation='relu'),\n",
    "    tf.keras.layers.Dense(1024, activation='relu'),\n",
    "    tf.keras.layers.Dense(1024, activation='relu'),\n",
    "    model.add(layers.Dropout(rate=0.25))\n",
    "    model.add(layers.Flatten())\n",
    "    tf.keras.layers.Dense(128, activation='relu'),\n",
    "    tf.keras.layers.Dense(8, activation='softmax')\n",
    "    ])\n",
    "\n",
    "mlp_nn.compile(\n",
    "    loss=tf.keras.losses.categorical_crossentropy,\n",
    "    optimizer=tf.keras.optimizers.Adam(),\n",
    "    metrics=[tf.keras.metrics.BinaryAccuracy(name='accuracy')]\n",
    ")\n",
    "\n",
    "history_mlp = mlp_nn.fit(\n",
    "    X_train,\n",
    "    y_train,\n",
    "    epochs=100,\n",
    "    batch_size=128,\n",
    "    validation_data=(X_test, y_test)\n",
    ")"
   ]
  },
  {
   "cell_type": "markdown",
   "metadata": {},
   "source": [
    "### Iteration 2 - Basic Custom CNN Network Architecture"
   ]
  },
  {
   "cell_type": "code",
   "execution_count": null,
   "metadata": {},
   "outputs": [],
   "source": []
  },
  {
   "cell_type": "markdown",
   "metadata": {},
   "source": [
    "### Iteration 3 - Implementing Popular Architecture (LeNet-5 CNN)"
   ]
  },
  {
   "cell_type": "code",
   "execution_count": null,
   "metadata": {},
   "outputs": [],
   "source": []
  }
 ],
 "metadata": {
  "kernelspec": {
   "display_name": "Python 3.7.6 ('base')",
   "language": "python",
   "name": "python3"
  },
  "language_info": {
   "codemirror_mode": {
    "name": "ipython",
    "version": 3
   },
   "file_extension": ".py",
   "mimetype": "text/x-python",
   "name": "python",
   "nbconvert_exporter": "python",
   "pygments_lexer": "ipython3",
   "version": "3.7.6"
  },
  "orig_nbformat": 4,
  "vscode": {
   "interpreter": {
    "hash": "fc54b730d5827a5177977684c2d5a8e76c1173371a23e9c0a3fe3bd6cd1c4ad7"
   }
  }
 },
 "nbformat": 4,
 "nbformat_minor": 2
}
